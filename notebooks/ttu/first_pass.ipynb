{
 "cells": [
  {
   "cell_type": "code",
   "execution_count": 1,
   "metadata": {},
   "outputs": [
    {
     "name": "stderr",
     "output_type": "stream",
     "text": [
      "Using TensorFlow backend.\n"
     ]
    }
   ],
   "source": [
    "import pandas as pd\n",
    "import numpy as np\n",
    "\n",
    "import keras\n",
    "import tensorflow as tf\n",
    "\n",
    "config = tf.ConfigProto(device_count={\"CPU\": 8})\n",
    "keras.backend.tensorflow_backend.set_session(tf.Session(config=config))\n",
    "\n",
    "from keras.preprocessing import image\n",
    "from keras.applications.imagenet_utils import preprocess_input\n",
    "\n",
    "from sklearn.preprocessing import LabelEncoder\n",
    "from sklearn.preprocessing import OneHotEncoder\n",
    "\n",
    "from moby.constants import DATA_DIR\n",
    "\n",
    "\n",
    "\n",
    "def prepare_image(img_name, img_dir):\n",
    "    \"\"\"\n",
    "    \"\"\"\n",
    "    img = image.load_img(\n",
    "        img_dir/img_name,\n",
    "        target_size=(100, 100, 3)\n",
    "    )\n",
    "    img_array = image.img_to_array(img)\n",
    "    img_matrix = preprocess_input(img_array)\n",
    "    return img_matrix\n",
    "\n",
    "\n",
    "def build_tensor(label_map: dict, img_dir):\n",
    "    \"\"\"Build our tensor and return a label encoder.\n",
    "    \"\"\"\n",
    "    n = len(label_map)\n",
    "    tensor = np.zeros((n, 100, 100, 3))\n",
    "\n",
    "    labels = list()\n",
    "    label_encoder = LabelEncoder()\n",
    "\n",
    "    for i, (img, label) in enumerate(label_map.items()):\n",
    "        labels.append(label)\n",
    "        tensor[i] = prepare_image(img, img_dir)\n",
    "\n",
    "    integer_encoded = label_encoder.fit_transform(labels)\n",
    "    # ['whale_A', 'whale_B', ...] -> [0, 1, ... ]\n",
    "    integer_encoded = integer_encoded.reshape(len(integer_encoded), 1)\n",
    "    # [0 , 1, ...] -> [ [0], [1], ... ]\n",
    "\n",
    "    onehot_encoder = OneHotEncoder(sparse=False)\n",
    "    onehot_encoded = onehot_encoder.fit_transform(integer_encoded)\n",
    "    # [ [0], [1], ...] -> [[1, 0, 0], [0, 1, 0], ...]\n",
    "    # i.e. Given an array with 10 features, and 20 observations, a one-hot encode\n",
    "    # will produce a matrix with 20 rows and 10 columns, where in each row, a 1\n",
    "    # is assigned to the column representing the feature observed.\n",
    "\n",
    "    # We need the one-hot encoding for our model\n",
    "    # we need to use the label encoder to get back our original whale IDs\n",
    "    return tensor, onehot_encoded, label_encoder"
   ]
  },
  {
   "cell_type": "code",
   "execution_count": 2,
   "metadata": {},
   "outputs": [],
   "source": [
    "training_data = pd.read_csv(DATA_DIR / \"interim\" / \"1_no_new_whales\" / \"train.csv\")\n",
    "training_img_dir = DATA_DIR / \"interim\" / \"1_no_new_whales\" / \"train\""
   ]
  },
  {
   "cell_type": "code",
   "execution_count": 3,
   "metadata": {},
   "outputs": [],
   "source": [
    "label_map = training_data.set_index(\"Image\", verify_integrity=True)[\"Id\"].to_dict()"
   ]
  },
  {
   "cell_type": "code",
   "execution_count": 4,
   "metadata": {},
   "outputs": [
    {
     "name": "stderr",
     "output_type": "stream",
     "text": [
      "/home/ttu/.local/share/virtualenvs/TheWhaleFormerlyKnownAsMoby-M9BPs1zq/lib/python3.6/site-packages/sklearn/preprocessing/_encoders.py:368: FutureWarning: The handling of integer data will change in version 0.22. Currently, the categories are determined based on the range [0, max(values)], while in the future they will be determined based on the unique values.\n",
      "If you want the future behaviour and silence this warning, you can specify \"categories='auto'\".\n",
      "In case you used a LabelEncoder before this OneHotEncoder to convert the categories to integers, then you can now use the OneHotEncoder directly.\n",
      "  warnings.warn(msg, FutureWarning)\n"
     ]
    }
   ],
   "source": [
    "tensor, onehot, label = build_tensor(label_map, training_img_dir)"
   ]
  },
  {
   "cell_type": "code",
   "execution_count": 5,
   "metadata": {},
   "outputs": [
    {
     "data": {
      "text/plain": [
       "(15697, 5004)"
      ]
     },
     "execution_count": 5,
     "metadata": {},
     "output_type": "execute_result"
    }
   ],
   "source": [
    "onehot.shape"
   ]
  },
  {
   "cell_type": "code",
   "execution_count": 6,
   "metadata": {},
   "outputs": [
    {
     "name": "stdout",
     "output_type": "stream",
     "text": [
      "_________________________________________________________________\n",
      "Layer (type)                 Output Shape              Param #   \n",
      "=================================================================\n",
      "conv0 (Conv2D)               (None, 94, 94, 32)        4736      \n",
      "_________________________________________________________________\n",
      "bn0 (BatchNormalization)     (None, 94, 94, 32)        128       \n",
      "_________________________________________________________________\n",
      "activation_1 (Activation)    (None, 94, 94, 32)        0         \n",
      "_________________________________________________________________\n",
      "max_pool (MaxPooling2D)      (None, 47, 47, 32)        0         \n",
      "_________________________________________________________________\n",
      "conv1 (Conv2D)               (None, 45, 45, 64)        18496     \n",
      "_________________________________________________________________\n",
      "activation_2 (Activation)    (None, 45, 45, 64)        0         \n",
      "_________________________________________________________________\n",
      "avg_pool (AveragePooling2D)  (None, 15, 15, 64)        0         \n",
      "_________________________________________________________________\n",
      "flatten_1 (Flatten)          (None, 14400)             0         \n",
      "_________________________________________________________________\n",
      "rl (Dense)                   (None, 500)               7200500   \n",
      "_________________________________________________________________\n",
      "dropout_1 (Dropout)          (None, 500)               0         \n",
      "_________________________________________________________________\n",
      "sm (Dense)                   (None, 5004)              2507004   \n",
      "=================================================================\n",
      "Total params: 9,730,864\n",
      "Trainable params: 9,730,800\n",
      "Non-trainable params: 64\n",
      "_________________________________________________________________\n"
     ]
    }
   ],
   "source": [
    "from keras import layers\n",
    "from keras.models import Sequential\n",
    "\n",
    "model = Sequential()\n",
    "\n",
    "model.add(layers.Conv2D(32, (7, 7), strides = (1, 1), name = 'conv0', input_shape = (100, 100, 3)))\n",
    "\n",
    "model.add(layers.BatchNormalization(axis = 3, name = 'bn0'))\n",
    "model.add(layers.Activation('relu'))\n",
    "\n",
    "model.add(layers.MaxPooling2D((2, 2), name='max_pool'))\n",
    "model.add(layers.Conv2D(64, (3, 3), strides = (1,1), name=\"conv1\"))\n",
    "model.add(layers.Activation('relu'))\n",
    "model.add(layers.AveragePooling2D((3, 3), name='avg_pool'))\n",
    "\n",
    "model.add(layers.Flatten())\n",
    "model.add(layers.Dense(500, activation=\"relu\", name='rl'))\n",
    "model.add(layers.Dropout(0.8))\n",
    "model.add(layers.Dense(onehot.shape[1], activation='softmax', name='sm'))\n",
    "\n",
    "model.compile(loss='categorical_crossentropy', optimizer=\"adam\", metrics=['accuracy'])\n",
    "model.summary()"
   ]
  },
  {
   "cell_type": "code",
   "execution_count": 7,
   "metadata": {},
   "outputs": [
    {
     "name": "stdout",
     "output_type": "stream",
     "text": [
      "Epoch 1/100\n",
      "15697/15697 [==============================] - 251s 16ms/step - loss: 8.4273 - acc: 0.0029\n",
      "Epoch 2/100\n",
      "15697/15697 [==============================] - 251s 16ms/step - loss: 8.1614 - acc: 0.0034\n",
      "Epoch 3/100\n",
      "15697/15697 [==============================] - 250s 16ms/step - loss: 8.0819 - acc: 0.0044\n",
      "Epoch 4/100\n",
      "15697/15697 [==============================] - 251s 16ms/step - loss: 7.9905 - acc: 0.0075\n",
      "Epoch 5/100\n",
      "15697/15697 [==============================] - 253s 16ms/step - loss: 7.8943 - acc: 0.0108\n",
      "Epoch 6/100\n",
      "15697/15697 [==============================] - 255s 16ms/step - loss: 7.7687 - acc: 0.0118\n",
      "Epoch 7/100\n",
      "15697/15697 [==============================] - 255s 16ms/step - loss: 7.6433 - acc: 0.0169\n",
      "Epoch 8/100\n",
      "15697/15697 [==============================] - 254s 16ms/step - loss: 7.4812 - acc: 0.0187\n",
      "Epoch 9/100\n",
      "15697/15697 [==============================] - 253s 16ms/step - loss: 7.3084 - acc: 0.0217\n",
      "Epoch 10/100\n",
      "15697/15697 [==============================] - 254s 16ms/step - loss: 7.1132 - acc: 0.0276\n",
      "Epoch 11/100\n",
      "15697/15697 [==============================] - 257s 16ms/step - loss: 6.9175 - acc: 0.0334\n",
      "Epoch 12/100\n",
      "15697/15697 [==============================] - 254s 16ms/step - loss: 6.7095 - acc: 0.0417\n",
      "Epoch 13/100\n",
      "15697/15697 [==============================] - 254s 16ms/step - loss: 6.4697 - acc: 0.0495\n",
      "Epoch 14/100\n",
      "15697/15697 [==============================] - 254s 16ms/step - loss: 6.1872 - acc: 0.0657\n",
      "Epoch 15/100\n",
      "15697/15697 [==============================] - 254s 16ms/step - loss: 5.9730 - acc: 0.0777\n",
      "Epoch 16/100\n",
      "15697/15697 [==============================] - 254s 16ms/step - loss: 5.6581 - acc: 0.0928\n",
      "Epoch 17/100\n",
      "15697/15697 [==============================] - 254s 16ms/step - loss: 5.3573 - acc: 0.1203\n",
      "Epoch 18/100\n",
      "15697/15697 [==============================] - 254s 16ms/step - loss: 5.0619 - acc: 0.1461\n",
      "Epoch 19/100\n",
      "15697/15697 [==============================] - 254s 16ms/step - loss: 4.7628 - acc: 0.1708\n",
      "Epoch 20/100\n",
      "15697/15697 [==============================] - 254s 16ms/step - loss: 4.5110 - acc: 0.1999\n",
      "Epoch 21/100\n",
      "15697/15697 [==============================] - 254s 16ms/step - loss: 4.2278 - acc: 0.2293\n",
      "Epoch 22/100\n",
      "15697/15697 [==============================] - 255s 16ms/step - loss: 3.9683 - acc: 0.2589\n",
      "Epoch 23/100\n",
      "15697/15697 [==============================] - 255s 16ms/step - loss: 3.7663 - acc: 0.2853\n",
      "Epoch 24/100\n",
      "15697/15697 [==============================] - 254s 16ms/step - loss: 3.5081 - acc: 0.3104\n",
      "Epoch 25/100\n",
      "15697/15697 [==============================] - 254s 16ms/step - loss: 3.2849 - acc: 0.3422\n",
      "Epoch 26/100\n",
      "15697/15697 [==============================] - 254s 16ms/step - loss: 3.1347 - acc: 0.3664\n",
      "Epoch 27/100\n",
      "15697/15697 [==============================] - 255s 16ms/step - loss: 2.9096 - acc: 0.4039\n",
      "Epoch 28/100\n",
      "15697/15697 [==============================] - 259s 16ms/step - loss: 2.7656 - acc: 0.4236\n",
      "Epoch 29/100\n",
      "15697/15697 [==============================] - 254s 16ms/step - loss: 2.6037 - acc: 0.4474\n",
      "Epoch 30/100\n",
      "15697/15697 [==============================] - 255s 16ms/step - loss: 2.5048 - acc: 0.4634\n",
      "Epoch 31/100\n",
      "15697/15697 [==============================] - 254s 16ms/step - loss: 2.3405 - acc: 0.4863\n",
      "Epoch 32/100\n",
      "15697/15697 [==============================] - 254s 16ms/step - loss: 2.2294 - acc: 0.5061\n",
      "Epoch 33/100\n",
      "15697/15697 [==============================] - 254s 16ms/step - loss: 2.1143 - acc: 0.5272\n",
      "Epoch 34/100\n",
      "15697/15697 [==============================] - 254s 16ms/step - loss: 2.0243 - acc: 0.5437\n",
      "Epoch 35/100\n",
      "15697/15697 [==============================] - 254s 16ms/step - loss: 1.9441 - acc: 0.5509\n",
      "Epoch 36/100\n",
      "15697/15697 [==============================] - 254s 16ms/step - loss: 1.8582 - acc: 0.5743\n",
      "Epoch 37/100\n",
      "15697/15697 [==============================] - 254s 16ms/step - loss: 1.7920 - acc: 0.5839\n",
      "Epoch 38/100\n",
      "15697/15697 [==============================] - 254s 16ms/step - loss: 1.6940 - acc: 0.5999\n",
      "Epoch 39/100\n",
      "15697/15697 [==============================] - 254s 16ms/step - loss: 1.6453 - acc: 0.6121\n",
      "Epoch 40/100\n",
      "15697/15697 [==============================] - 254s 16ms/step - loss: 1.5786 - acc: 0.6286\n",
      "Epoch 41/100\n",
      "15697/15697 [==============================] - 254s 16ms/step - loss: 1.5405 - acc: 0.6355\n",
      "Epoch 42/100\n",
      "15697/15697 [==============================] - 253s 16ms/step - loss: 1.4791 - acc: 0.6466\n",
      "Epoch 43/100\n",
      "15697/15697 [==============================] - 253s 16ms/step - loss: 1.4677 - acc: 0.6469\n",
      "Epoch 44/100\n",
      "15697/15697 [==============================] - 254s 16ms/step - loss: 1.3807 - acc: 0.6676\n",
      "Epoch 45/100\n",
      "15697/15697 [==============================] - 254s 16ms/step - loss: 1.3624 - acc: 0.6690\n",
      "Epoch 46/100\n",
      "15697/15697 [==============================] - 254s 16ms/step - loss: 1.3139 - acc: 0.6776\n",
      "Epoch 47/100\n",
      "15697/15697 [==============================] - 254s 16ms/step - loss: 1.2882 - acc: 0.6855\n",
      "Epoch 48/100\n",
      "15697/15697 [==============================] - 253s 16ms/step - loss: 1.2424 - acc: 0.6930\n",
      "Epoch 49/100\n",
      "15697/15697 [==============================] - 254s 16ms/step - loss: 1.1842 - acc: 0.7019\n",
      "Epoch 50/100\n",
      "15697/15697 [==============================] - 254s 16ms/step - loss: 1.1801 - acc: 0.7050\n",
      "Epoch 51/100\n",
      "15697/15697 [==============================] - 254s 16ms/step - loss: 1.1396 - acc: 0.7156\n",
      "Epoch 52/100\n",
      "15697/15697 [==============================] - 256s 16ms/step - loss: 1.1532 - acc: 0.7115\n",
      "Epoch 53/100\n",
      "15697/15697 [==============================] - 253s 16ms/step - loss: 1.0929 - acc: 0.7247\n",
      "Epoch 54/100\n",
      "15697/15697 [==============================] - 253s 16ms/step - loss: 1.0735 - acc: 0.7264\n",
      "Epoch 55/100\n",
      "15697/15697 [==============================] - 253s 16ms/step - loss: 1.0778 - acc: 0.7273\n",
      "Epoch 56/100\n",
      "15697/15697 [==============================] - 253s 16ms/step - loss: 1.0288 - acc: 0.7416\n",
      "Epoch 57/100\n",
      "15697/15697 [==============================] - 253s 16ms/step - loss: 1.0180 - acc: 0.7411\n",
      "Epoch 58/100\n",
      "15697/15697 [==============================] - 253s 16ms/step - loss: 0.9683 - acc: 0.7493\n",
      "Epoch 59/100\n",
      "15697/15697 [==============================] - 253s 16ms/step - loss: 0.9448 - acc: 0.7551\n",
      "Epoch 60/100\n",
      "15697/15697 [==============================] - 254s 16ms/step - loss: 0.9546 - acc: 0.7550\n",
      "Epoch 61/100\n",
      "15697/15697 [==============================] - 253s 16ms/step - loss: 0.9023 - acc: 0.7631\n",
      "Epoch 62/100\n",
      "15697/15697 [==============================] - 254s 16ms/step - loss: 0.9019 - acc: 0.7643\n",
      "Epoch 63/100\n",
      "15697/15697 [==============================] - 253s 16ms/step - loss: 0.8992 - acc: 0.7705\n",
      "Epoch 64/100\n",
      "15697/15697 [==============================] - 253s 16ms/step - loss: 0.8757 - acc: 0.7721\n",
      "Epoch 65/100\n",
      "15697/15697 [==============================] - 253s 16ms/step - loss: 0.8316 - acc: 0.7811\n",
      "Epoch 66/100\n",
      "15697/15697 [==============================] - 253s 16ms/step - loss: 0.8529 - acc: 0.7789\n",
      "Epoch 67/100\n",
      "15697/15697 [==============================] - 253s 16ms/step - loss: 0.8405 - acc: 0.7821\n",
      "Epoch 68/100\n",
      "15697/15697 [==============================] - 253s 16ms/step - loss: 0.8326 - acc: 0.7844\n",
      "Epoch 69/100\n",
      "15697/15697 [==============================] - 253s 16ms/step - loss: 0.7854 - acc: 0.7935\n",
      "Epoch 70/100\n",
      "15697/15697 [==============================] - 254s 16ms/step - loss: 0.7747 - acc: 0.7944\n",
      "Epoch 71/100\n",
      "15697/15697 [==============================] - 253s 16ms/step - loss: 0.7966 - acc: 0.7930\n",
      "Epoch 72/100\n",
      "15697/15697 [==============================] - 254s 16ms/step - loss: 0.7684 - acc: 0.8013\n",
      "Epoch 73/100\n",
      "15697/15697 [==============================] - 253s 16ms/step - loss: 0.7670 - acc: 0.7997\n",
      "Epoch 74/100\n",
      "15697/15697 [==============================] - 253s 16ms/step - loss: 0.7418 - acc: 0.8049\n",
      "Epoch 75/100\n",
      "15697/15697 [==============================] - 254s 16ms/step - loss: 0.7372 - acc: 0.8038\n",
      "Epoch 76/100\n",
      "15697/15697 [==============================] - 254s 16ms/step - loss: 0.7384 - acc: 0.8051\n",
      "Epoch 77/100\n",
      "15697/15697 [==============================] - 254s 16ms/step - loss: 0.7082 - acc: 0.8105\n",
      "Epoch 78/100\n",
      "15697/15697 [==============================] - 254s 16ms/step - loss: 0.7227 - acc: 0.8102\n",
      "Epoch 79/100\n",
      "15697/15697 [==============================] - 254s 16ms/step - loss: 0.6941 - acc: 0.8120\n",
      "Epoch 80/100\n",
      "15697/15697 [==============================] - 254s 16ms/step - loss: 0.6921 - acc: 0.8170\n",
      "Epoch 81/100\n",
      "15697/15697 [==============================] - 254s 16ms/step - loss: 0.6683 - acc: 0.8242\n",
      "Epoch 82/100\n",
      "15697/15697 [==============================] - 254s 16ms/step - loss: 0.6574 - acc: 0.8228\n",
      "Epoch 83/100\n",
      "15697/15697 [==============================] - 253s 16ms/step - loss: 0.6652 - acc: 0.8238\n",
      "Epoch 84/100\n",
      "15697/15697 [==============================] - 253s 16ms/step - loss: 0.6567 - acc: 0.8250\n",
      "Epoch 85/100\n",
      "15697/15697 [==============================] - 253s 16ms/step - loss: 0.6579 - acc: 0.8226\n",
      "Epoch 86/100\n",
      "15697/15697 [==============================] - 253s 16ms/step - loss: 0.6208 - acc: 0.8349\n",
      "Epoch 87/100\n",
      "15697/15697 [==============================] - 253s 16ms/step - loss: 0.6367 - acc: 0.8302\n",
      "Epoch 88/100\n",
      "15697/15697 [==============================] - 253s 16ms/step - loss: 0.6146 - acc: 0.8352\n",
      "Epoch 89/100\n",
      "15697/15697 [==============================] - 253s 16ms/step - loss: 0.6076 - acc: 0.8397\n",
      "Epoch 90/100\n",
      "15697/15697 [==============================] - 253s 16ms/step - loss: 0.6148 - acc: 0.8356\n",
      "Epoch 91/100\n",
      "15697/15697 [==============================] - 253s 16ms/step - loss: 0.5979 - acc: 0.8407\n",
      "Epoch 92/100\n",
      "15697/15697 [==============================] - 254s 16ms/step - loss: 0.5924 - acc: 0.8387\n",
      "Epoch 93/100\n",
      "15697/15697 [==============================] - 254s 16ms/step - loss: 0.5871 - acc: 0.8426\n",
      "Epoch 94/100\n",
      "15697/15697 [==============================] - 254s 16ms/step - loss: 0.5718 - acc: 0.8499\n",
      "Epoch 95/100\n",
      "15697/15697 [==============================] - 254s 16ms/step - loss: 0.5854 - acc: 0.8440\n",
      "Epoch 96/100\n",
      "15697/15697 [==============================] - 253s 16ms/step - loss: 0.5666 - acc: 0.8448\n",
      "Epoch 97/100\n",
      "15697/15697 [==============================] - 254s 16ms/step - loss: 0.5409 - acc: 0.8524\n",
      "Epoch 98/100\n",
      "15697/15697 [==============================] - 254s 16ms/step - loss: 0.5585 - acc: 0.8465\n",
      "Epoch 99/100\n",
      "15697/15697 [==============================] - 253s 16ms/step - loss: 0.5185 - acc: 0.8568\n",
      "Epoch 100/100\n",
      "15697/15697 [==============================] - 254s 16ms/step - loss: 0.5481 - acc: 0.8534\n"
     ]
    }
   ],
   "source": [
    "history = model.fit(tensor, onehot, epochs=100, batch_size=100, verbose=1)"
   ]
  },
  {
   "cell_type": "code",
   "execution_count": 9,
   "metadata": {},
   "outputs": [],
   "source": [
    "model.save(\"./CNN_first_pass_no_new_whales.h5\")"
   ]
  },
  {
   "cell_type": "markdown",
   "metadata": {},
   "source": [
    "# Sample Prediction (Scratch)"
   ]
  },
  {
   "cell_type": "code",
   "execution_count": 11,
   "metadata": {},
   "outputs": [],
   "source": [
    "test_images = DATA_DIR / \"raw\" / \"test\" \n",
    "\n",
    "x = next(test_images.glob(\"*jpg\"))\n",
    "my_img = prepare_image(x, test_images)"
   ]
  },
  {
   "cell_type": "code",
   "execution_count": 13,
   "metadata": {},
   "outputs": [
    {
     "data": {
      "text/plain": [
       "array([[2.8067821e-09, 2.3171715e-07, 8.9690775e-07, ..., 5.5238349e-14,\n",
       "        5.8274452e-15, 1.5638869e-14]], dtype=float32)"
      ]
     },
     "execution_count": 13,
     "metadata": {},
     "output_type": "execute_result"
    }
   ],
   "source": [
    "test_imgs = np.zeros((1, 100, 100, 3))\n",
    "test_imgs[0]= my_img\n"
   ]
  },
  {
   "cell_type": "code",
   "execution_count": 17,
   "metadata": {},
   "outputs": [],
   "source": [
    "pred = model.predict(test_imgs)"
   ]
  },
  {
   "cell_type": "code",
   "execution_count": 29,
   "metadata": {},
   "outputs": [
    {
     "data": {
      "text/plain": [
       "array([2.8067821e-09, 2.3171715e-07, 8.9690775e-07, ..., 5.5238349e-14,\n",
       "       5.8274452e-15, 1.5638869e-14], dtype=float32)"
      ]
     },
     "execution_count": 29,
     "metadata": {},
     "output_type": "execute_result"
    }
   ],
   "source": [
    "pred[0]"
   ]
  },
  {
   "cell_type": "code",
   "execution_count": 30,
   "metadata": {},
   "outputs": [
    {
     "data": {
      "text/plain": [
       "array(['w_6ed6320', 'w_fd6a3ad', 'w_e13f4e8', 'w_456646a', 'w_8f0c6ed'],\n",
       "      dtype='<U9')"
      ]
     },
     "execution_count": 30,
     "metadata": {},
     "output_type": "execute_result"
    }
   ],
   "source": [
    "label.inverse_transform(pred.argsort()[0][-5:][::-1])"
   ]
  },
  {
   "cell_type": "code",
   "execution_count": 46,
   "metadata": {},
   "outputs": [
    {
     "data": {
      "text/html": [
       "<div>\n",
       "<style scoped>\n",
       "    .dataframe tbody tr th:only-of-type {\n",
       "        vertical-align: middle;\n",
       "    }\n",
       "\n",
       "    .dataframe tbody tr th {\n",
       "        vertical-align: top;\n",
       "    }\n",
       "\n",
       "    .dataframe thead th {\n",
       "        text-align: right;\n",
       "    }\n",
       "</style>\n",
       "<table border=\"1\" class=\"dataframe\">\n",
       "  <thead>\n",
       "    <tr style=\"text-align: right;\">\n",
       "      <th></th>\n",
       "      <th>Image</th>\n",
       "      <th>Id</th>\n",
       "    </tr>\n",
       "  </thead>\n",
       "  <tbody>\n",
       "    <tr>\n",
       "      <th>500</th>\n",
       "      <td>0823f9df3.jpg</td>\n",
       "      <td>w_8f0c6ed</td>\n",
       "    </tr>\n",
       "    <tr>\n",
       "      <th>9412</th>\n",
       "      <td>9a370a86c.jpg</td>\n",
       "      <td>w_8f0c6ed</td>\n",
       "    </tr>\n",
       "    <tr>\n",
       "      <th>10039</th>\n",
       "      <td>a440f35fa.jpg</td>\n",
       "      <td>w_8f0c6ed</td>\n",
       "    </tr>\n",
       "    <tr>\n",
       "      <th>10398</th>\n",
       "      <td>a9ab92cef.jpg</td>\n",
       "      <td>w_8f0c6ed</td>\n",
       "    </tr>\n",
       "    <tr>\n",
       "      <th>11140</th>\n",
       "      <td>b5bf598c6.jpg</td>\n",
       "      <td>w_8f0c6ed</td>\n",
       "    </tr>\n",
       "    <tr>\n",
       "      <th>12511</th>\n",
       "      <td>cbabc03bd.jpg</td>\n",
       "      <td>w_8f0c6ed</td>\n",
       "    </tr>\n",
       "    <tr>\n",
       "      <th>13009</th>\n",
       "      <td>d3db45707.jpg</td>\n",
       "      <td>w_8f0c6ed</td>\n",
       "    </tr>\n",
       "    <tr>\n",
       "      <th>13367</th>\n",
       "      <td>d99e5b26b.jpg</td>\n",
       "      <td>w_8f0c6ed</td>\n",
       "    </tr>\n",
       "  </tbody>\n",
       "</table>\n",
       "</div>"
      ],
      "text/plain": [
       "               Image         Id\n",
       "500    0823f9df3.jpg  w_8f0c6ed\n",
       "9412   9a370a86c.jpg  w_8f0c6ed\n",
       "10039  a440f35fa.jpg  w_8f0c6ed\n",
       "10398  a9ab92cef.jpg  w_8f0c6ed\n",
       "11140  b5bf598c6.jpg  w_8f0c6ed\n",
       "12511  cbabc03bd.jpg  w_8f0c6ed\n",
       "13009  d3db45707.jpg  w_8f0c6ed\n",
       "13367  d99e5b26b.jpg  w_8f0c6ed"
      ]
     },
     "execution_count": 46,
     "metadata": {},
     "output_type": "execute_result"
    }
   ],
   "source": [
    "training_data.query(\"Id == 'w_8f0c6ed'\")"
   ]
  },
  {
   "cell_type": "code",
   "execution_count": 50,
   "metadata": {},
   "outputs": [
    {
     "data": {
      "image/png": "[encoded data removed]",
      "text/plain": [
       "<PIL.Image.Image image mode=RGB size=100x100 at 0x7F2009543240>"
      ]
     },
     "execution_count": 50,
     "metadata": {},
     "output_type": "execute_result"
    }
   ],
   "source": [
    "image.array_to_img(prepare_image('0823f9df3.jpg', training_img_dir))"
   ]
  },
  {
   "cell_type": "code",
   "execution_count": 34,
   "metadata": {},
   "outputs": [
    {
     "data": {
      "image/png": "[encoded data removed]",
      "text/plain": [
       "<PIL.Image.Image image mode=RGB size=100x100 at 0x7F2008EB99E8>"
      ]
     },
     "execution_count": 34,
     "metadata": {},
     "output_type": "execute_result"
    }
   ],
   "source": [
    "image.array_to_img(my_img)"
   ]
  },
  {
   "cell_type": "code",
   "execution_count": 53,
   "metadata": {},
   "outputs": [],
   "source": [
    "model.save_weights(\"./CNN_first_pass_no_new_whales_weights.h5\")"
   ]
  },
  {
   "cell_type": "code",
   "execution_count": null,
   "metadata": {},
   "outputs": [],
   "source": []
  }
 ],
 "metadata": {
  "kernelspec": {
   "display_name": "Python 3",
   "language": "python",
   "name": "python3"
  },
  "language_info": {
   "codemirror_mode": {
    "name": "ipython",
    "version": 3
   },
   "file_extension": ".py",
   "mimetype": "text/x-python",
   "name": "python",
   "nbconvert_exporter": "python",
   "pygments_lexer": "ipython3",
   "version": "3.6.7"
  }
 },
 "nbformat": 4,
 "nbformat_minor": 2
}
